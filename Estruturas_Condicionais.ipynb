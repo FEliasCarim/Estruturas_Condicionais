{
  "nbformat": 4,
  "nbformat_minor": 0,
  "metadata": {
    "colab": {
      "provenance": [],
      "collapsed_sections": [],
      "authorship_tag": "ABX9TyPb+9lzS4vC5ugqq8UuaGwj",
      "include_colab_link": true
    },
    "kernelspec": {
      "name": "python3",
      "display_name": "Python 3"
    },
    "language_info": {
      "name": "python"
    }
  },
  "cells": [
    {
      "cell_type": "markdown",
      "metadata": {
        "id": "view-in-github",
        "colab_type": "text"
      },
      "source": [
        "<a href=\"https://colab.research.google.com/github/FEliasCarim/Estruturas_Condicionais/blob/main/Estruturas_Condicionais.ipynb\" target=\"_parent\"><img src=\"https://colab.research.google.com/assets/colab-badge.svg\" alt=\"Open In Colab\"/></a>"
      ]
    },
    {
      "cell_type": "code",
      "execution_count": null,
      "metadata": {
        "colab": {
          "base_uri": "https://localhost:8080/"
        },
        "id": "0xXBM_lg7MS-",
        "outputId": "9953fe2d-3724-4555-b8be-b3e2d5589375"
      },
      "outputs": [
        {
          "output_type": "stream",
          "name": "stdout",
          "text": [
            "Digite o valor do saque: 200\n",
            "Realizando o saque\n"
          ]
        }
      ],
      "source": [
        "saldo = 2000\n",
        "saque = float(input('Digite o valor do saque: '))\n",
        "\n",
        "if saldo >= saque:\n",
        "    print('Realizando o saque')\n",
        "\n",
        "else:\n",
        "    print('Saldo insuficiente!')\n"
      ]
    },
    {
      "cell_type": "code",
      "source": [
        "idade_maioridade = 18\n",
        "idade_especial = 17\n",
        "\n",
        "idade= int(input('Digite sua idade: '))\n",
        "\n",
        "if idade >= idade_maioridade:\n",
        "    print('Você pode realizar as aulas teórica e práticas de habilitação!')\n",
        "elif idade == idade_especial:\n",
        "    print('Você pode realizar apenas as aulas práticas') \n",
        "else:\n",
        "    print('Você não pode tirar sua habilitação!!')"
      ],
      "metadata": {
        "colab": {
          "base_uri": "https://localhost:8080/"
        },
        "id": "b9ija6w3M_Hb",
        "outputId": "4b248086-d349-48da-f95e-238b8fcbe213"
      },
      "execution_count": null,
      "outputs": [
        {
          "output_type": "stream",
          "name": "stdout",
          "text": [
            "Digite sua idade: 15\n",
            "Você não pode tirar sua habilitação!!\n"
          ]
        }
      ]
    },
    {
      "cell_type": "code",
      "source": [
        "conta_normal = True\n",
        "conta_universitaria = False\n",
        "\n",
        "saldo = 2000\n",
        "saque = 2500\n",
        "cheque_especial = 450\n",
        "\n",
        "if conta_normal:\n",
        "    if saldo >= saque:\n",
        "        print('Saque Realizado com Sucesso')\n",
        "    elif saque <=(saldo + cheque_especial):\n",
        "        print('Saldo realizado com o uso do Cheque Especial!!')\n",
        "    else:\n",
        "        print('Não foi possível realizar o saque!!')\n",
        "\n",
        "elif conta_universitaria:\n",
        "    if saldo >= saque:\n",
        "        print('Saque Realizado com Sucesso')\n",
        "    else:\n",
        "        print('Saldo Insuficiente!!')\n",
        "    \n",
        "  \n"
      ],
      "metadata": {
        "colab": {
          "base_uri": "https://localhost:8080/"
        },
        "id": "ENJEP29LkZ_K",
        "outputId": "230c0b9c-b2fd-44f5-f7bc-20d234a17eff"
      },
      "execution_count": null,
      "outputs": [
        {
          "output_type": "stream",
          "name": "stdout",
          "text": [
            "Não foi possível realizar o saque!!\n"
          ]
        }
      ]
    },
    {
      "cell_type": "markdown",
      "source": [
        "ESTRUTURA CONDICIONAL TERNÁRIA"
      ],
      "metadata": {
        "id": "QhOnsyTZszzn"
      }
    },
    {
      "cell_type": "code",
      "source": [
        "saldo = 2000\n",
        "saque = 500\n",
        "\n",
        "Status = 'Sucesso' if saldo >= saque else 'Falha'\n",
        "print(f'{Status} ao realizar o saque!!')"
      ],
      "metadata": {
        "colab": {
          "base_uri": "https://localhost:8080/"
        },
        "id": "qCfy4faYs3KX",
        "outputId": "2b285aa3-3a38-41f6-9d17-02d01fa67e58"
      },
      "execution_count": null,
      "outputs": [
        {
          "output_type": "stream",
          "name": "stdout",
          "text": [
            "Sucesso ao realizar o saque!!\n"
          ]
        }
      ]
    },
    {
      "cell_type": "code",
      "source": [
        "saldo = 2000\n",
        "saque = 5000\n",
        "\n",
        "Status = 'Sucesso' if saldo >= saque else 'Falha'\n",
        "print(f'{Status} ao realizar o saque!!')"
      ],
      "metadata": {
        "colab": {
          "base_uri": "https://localhost:8080/"
        },
        "id": "1oNzlciwt5bE",
        "outputId": "9c767e5c-2bdb-4dbc-ea08-44a9cf2d92db"
      },
      "execution_count": null,
      "outputs": [
        {
          "output_type": "stream",
          "name": "stdout",
          "text": [
            "Falha ao realizar o saque!!\n"
          ]
        }
      ]
    }
  ]
}